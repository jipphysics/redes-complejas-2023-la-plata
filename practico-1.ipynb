{
 "cells": [
  {
   "cell_type": "raw",
   "id": "2594a264",
   "metadata": {},
   "source": [
    "# Descomente y ejecute esta celda para instalar los paquetes utilizados\n",
    "using Pkg\n",
    "Pkg.add(\"Plots\")\n",
    "Pkg.add(\"Graphs\")\n",
    "Pkg.add(\"GraphRecipes\")\n",
    "Pkg.add(\"GraphPlot\")\n",
    "Pkg.add(\"Random\")\n",
    "Pkg.add(\"Distributions\")\n",
    "Pkg.add(\"LaTeXStrings\")"
   ]
  },
  {
   "cell_type": "code",
   "execution_count": null,
   "id": "ee86dd5b",
   "metadata": {},
   "outputs": [],
   "source": [
    "# https://discourse.julialang.org/t/drawing-a-large-network-using-julia/85793\n",
    "using Plots\n",
    "using Graphs\n",
    "#using GraphRecipes\n",
    "using GraphPlot\n",
    "using Random\n",
    "using Distributions\n",
    "using LaTeXStrings"
   ]
  },
  {
   "cell_type": "markdown",
   "id": "ebcf3a38",
   "metadata": {},
   "source": [
    "# Problema 1\n",
    "\n",
    "Implemente un programa que genere redes utilizando el modelo configuracional. Para ello:\n",
    "\n",
    "1. Genere un vector `grados` que represente una secuencia de grados a partir de una distribución de Poisson\n",
    "    $$\n",
    "    P(k) = \\frac{\\lambda^ke^{-\\lambda}}{k!}\n",
    "    $$\n",
    "    utilizando, por ejemplo, $n=1000$ y $\\lambda=1.0$.\n",
    "    Asegúrese que la secuencia satisface la condición\n",
    "    $$\n",
    "    \\sum_i k_i=2m\n",
    "    $$\n",
    "    para algún $m\\in \\mathbb{N}$.\n",
    "2. Calcule la distribución de grados $n_k=\\sum_i \\delta_{kk_i}$ y gráfiquela.\n",
    "3. Genere un vector `stubs` de $2m$ stubs, asignando $k_i$ de ellos al nodo $i$. Es decir, los primeros $k_1$ elementos de `stub` tienen que contener el número 1, los siguientes $k_2$ elementos el número 2, y así hasta los últimos $k_n$ elementos que tienen que contener el número $n$.\n",
    "4. Aleatorice el orden de los elementos del vector de stubs.\n",
    "5. Genere un array `edgelist` de dimensiones $2m\\times 2$ para almacenar los links, de manera que `edgelist[l,1]` y `edgelist[l,2]` representen el target node y el source node del $l$-ésimo link, respectivamente. Para generar el $l$-ésimo link use como source los stubs  $l$ y $l+m$.\n",
    "6. Genere un array de tamaño $n+1$ llamado `neighbors_ranges` para indexar los rangos de la `edgelist` que indiquen los vecinos de cada nodo. Para ello, asigne `neighbors_ranges[i+1]=neighbors_ranges[i]+degree[i]` partiendo de `neighbors_ranges[1]=1`.\n",
    "7. Implemente una función `neighbors_range(i)` que retorne en rango `neighbors_ranges[i]:(neighbors_ranges[i+1]-1)`. Esto le permitirá iterar sobre los links de cada nodo $i$.\n",
    "8. Utilice el algoritmo de la bisección para determinar si un nodo $j$ es vecino de un nodo $i$. Para ello, implemente una función `is_neighbor(i,j)` que determina si el nodo $j$ es vecino del nodo $i$ retornando un valor booleano."
   ]
  },
  {
   "cell_type": "code",
   "execution_count": null,
   "id": "c13d6b7d",
   "metadata": {},
   "outputs": [],
   "source": []
  },
  {
   "cell_type": "markdown",
   "id": "1e30183e",
   "metadata": {},
   "source": [
    "# Problema 2\n",
    "\n",
    "1. Transfiera el grafo generado a un objeto `g` de tipo `Graph` de Julia.\n",
    "2. Utilice dicho objeto `g` para calcular las componentes del grafo.\n",
    "3. Calcule la distribución de tamaños de las componentes y grafíquela.\n",
    "4. Grafique el grafo usando la liberaría `GraphPlots` y la función `gplot`."
   ]
  },
  {
   "cell_type": "code",
   "execution_count": null,
   "id": "ce7e12dc",
   "metadata": {},
   "outputs": [],
   "source": []
  },
  {
   "cell_type": "markdown",
   "id": "a8f6dab9",
   "metadata": {},
   "source": [
    "# Problema 3\n",
    "\n",
    "### Ejercicio 13 de la clase 2\n",
    "\n",
    "Implemente el modelo de Barabasi-Albert. \n",
    "Genere redes de $n = 1000, 10000 y 100000$ nodos para $q = 3$ y $10$. \n",
    "Use como red semilla, en cada caso, una red totalmente conectada de $n_0 = 2q + 1$ nodos, de manera que $m_0 = n_0(n_0 - 1)/2 = n_0q$.\n",
    "Calcule, para cada caso, la distribucion de grados. \n",
    "Grafique con puntos, simultaneamente y usando diferentes colores, todas las distribuciones de grados en escala log-log. \n",
    "Agregue, como guía al ojo, una curva $\\sim k^{-3}$."
   ]
  },
  {
   "cell_type": "code",
   "execution_count": null,
   "id": "d9d6a794",
   "metadata": {},
   "outputs": [],
   "source": []
  }
 ],
 "metadata": {
  "kernelspec": {
   "display_name": "Julia 1.9.3",
   "language": "julia",
   "name": "julia-1.9"
  },
  "language_info": {
   "file_extension": ".jl",
   "mimetype": "application/julia",
   "name": "julia",
   "version": "1.9.3"
  }
 },
 "nbformat": 4,
 "nbformat_minor": 5
}
